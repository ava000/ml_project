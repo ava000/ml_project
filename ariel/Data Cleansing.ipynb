{
 "cells": [
  {
   "cell_type": "markdown",
   "metadata": {},
   "source": [
    "# Data Cleansing of the Ames Housing Data\n",
    "\n",
    "Ames, Iowa is the college town of **Iowa State University**. The Ames housing dataset consists of about $2500$ house sale records between $2006-2010$. Detailed information about the house attributes, along with the sale prices, is recorded in the dataset.\n",
    "\n",
    "A subset of the **Ames** dataset is hosted on [**Kaggle**](https://www.kaggle.com/c/house-prices-advanced-regression-techniques/data) as an entry-level regression competition. You may visit their site for some information on the meanings of its data columns (the data dictionary)."
   ]
  },
  {
   "cell_type": "code",
   "execution_count": 2,
   "metadata": {},
   "outputs": [],
   "source": [
    "# Import modules\n",
    "import pandas as pd\n",
    "import numpy as np\n",
    "import seaborn as sns\n",
    "from sklearn.impute import KNNImputer\n",
    "import math"
   ]
  },
  {
   "cell_type": "code",
   "execution_count": 3,
   "metadata": {},
   "outputs": [],
   "source": [
    "pd.set_option('display.max_columns', None) # display all the columns of a dataframe\n",
    "pd.set_option('display.max_rows', 100)     # display 100 rows of a dataframe"
   ]
  },
  {
   "cell_type": "code",
   "execution_count": 4,
   "metadata": {},
   "outputs": [],
   "source": [
    "# load the housing price data\n",
    "dataset = pd.read_csv('../data/Ames_Housing_Price_Data.csv', index_col=0)"
   ]
  },
  {
   "cell_type": "code",
   "execution_count": 5,
   "metadata": {},
   "outputs": [
    {
     "name": "stdout",
     "output_type": "stream",
     "text": [
      "<class 'pandas.core.frame.DataFrame'>\n",
      "Int64Index: 2580 entries, 1 to 763\n",
      "Data columns (total 81 columns):\n",
      " #   Column         Non-Null Count  Dtype  \n",
      "---  ------         --------------  -----  \n",
      " 0   PID            2580 non-null   int64  \n",
      " 1   GrLivArea      2580 non-null   int64  \n",
      " 2   SalePrice      2580 non-null   int64  \n",
      " 3   MSSubClass     2580 non-null   int64  \n",
      " 4   MSZoning       2580 non-null   object \n",
      " 5   LotFrontage    2118 non-null   float64\n",
      " 6   LotArea        2580 non-null   int64  \n",
      " 7   Street         2580 non-null   object \n",
      " 8   Alley          168 non-null    object \n",
      " 9   LotShape       2580 non-null   object \n",
      " 10  LandContour    2580 non-null   object \n",
      " 11  Utilities      2580 non-null   object \n",
      " 12  LotConfig      2580 non-null   object \n",
      " 13  LandSlope      2580 non-null   object \n",
      " 14  Neighborhood   2580 non-null   object \n",
      " 15  Condition1     2580 non-null   object \n",
      " 16  Condition2     2580 non-null   object \n",
      " 17  BldgType       2580 non-null   object \n",
      " 18  HouseStyle     2580 non-null   object \n",
      " 19  OverallQual    2580 non-null   int64  \n",
      " 20  OverallCond    2580 non-null   int64  \n",
      " 21  YearBuilt      2580 non-null   int64  \n",
      " 22  YearRemodAdd   2580 non-null   int64  \n",
      " 23  RoofStyle      2580 non-null   object \n",
      " 24  RoofMatl       2580 non-null   object \n",
      " 25  Exterior1st    2580 non-null   object \n",
      " 26  Exterior2nd    2580 non-null   object \n",
      " 27  MasVnrType     2566 non-null   object \n",
      " 28  MasVnrArea     2566 non-null   float64\n",
      " 29  ExterQual      2580 non-null   object \n",
      " 30  ExterCond      2580 non-null   object \n",
      " 31  Foundation     2580 non-null   object \n",
      " 32  BsmtQual       2511 non-null   object \n",
      " 33  BsmtCond       2511 non-null   object \n",
      " 34  BsmtExposure   2509 non-null   object \n",
      " 35  BsmtFinType1   2511 non-null   object \n",
      " 36  BsmtFinSF1     2579 non-null   float64\n",
      " 37  BsmtFinType2   2510 non-null   object \n",
      " 38  BsmtFinSF2     2579 non-null   float64\n",
      " 39  BsmtUnfSF      2579 non-null   float64\n",
      " 40  TotalBsmtSF    2579 non-null   float64\n",
      " 41  Heating        2580 non-null   object \n",
      " 42  HeatingQC      2580 non-null   object \n",
      " 43  CentralAir     2580 non-null   object \n",
      " 44  Electrical     2579 non-null   object \n",
      " 45  1stFlrSF       2580 non-null   int64  \n",
      " 46  2ndFlrSF       2580 non-null   int64  \n",
      " 47  LowQualFinSF   2580 non-null   int64  \n",
      " 48  BsmtFullBath   2578 non-null   float64\n",
      " 49  BsmtHalfBath   2578 non-null   float64\n",
      " 50  FullBath       2580 non-null   int64  \n",
      " 51  HalfBath       2580 non-null   int64  \n",
      " 52  BedroomAbvGr   2580 non-null   int64  \n",
      " 53  KitchenAbvGr   2580 non-null   int64  \n",
      " 54  KitchenQual    2580 non-null   object \n",
      " 55  TotRmsAbvGrd   2580 non-null   int64  \n",
      " 56  Functional     2580 non-null   object \n",
      " 57  Fireplaces     2580 non-null   int64  \n",
      " 58  FireplaceQu    1339 non-null   object \n",
      " 59  GarageType     2453 non-null   object \n",
      " 60  GarageYrBlt    2451 non-null   float64\n",
      " 61  GarageFinish   2451 non-null   object \n",
      " 62  GarageCars     2579 non-null   float64\n",
      " 63  GarageArea     2579 non-null   float64\n",
      " 64  GarageQual     2451 non-null   object \n",
      " 65  GarageCond     2451 non-null   object \n",
      " 66  PavedDrive     2580 non-null   object \n",
      " 67  WoodDeckSF     2580 non-null   int64  \n",
      " 68  OpenPorchSF    2580 non-null   int64  \n",
      " 69  EnclosedPorch  2580 non-null   int64  \n",
      " 70  3SsnPorch      2580 non-null   int64  \n",
      " 71  ScreenPorch    2580 non-null   int64  \n",
      " 72  PoolArea       2580 non-null   int64  \n",
      " 73  PoolQC         9 non-null      object \n",
      " 74  Fence          525 non-null    object \n",
      " 75  MiscFeature    97 non-null     object \n",
      " 76  MiscVal        2580 non-null   int64  \n",
      " 77  MoSold         2580 non-null   int64  \n",
      " 78  YrSold         2580 non-null   int64  \n",
      " 79  SaleType       2580 non-null   object \n",
      " 80  SaleCondition  2580 non-null   object \n",
      "dtypes: float64(11), int64(27), object(43)\n",
      "memory usage: 1.6+ MB\n"
     ]
    }
   ],
   "source": [
    "# Review column name, column type, Non-Null count\n",
    "dataset.info()"
   ]
  },
  {
   "cell_type": "markdown",
   "metadata": {},
   "source": [
    "<hr style=\"height:1px;border:none;color:#333;background-color:#333;\" />"
   ]
  },
  {
   "cell_type": "code",
   "execution_count": 4,
   "metadata": {},
   "outputs": [],
   "source": [
    "# found 1 duplicate row\n",
    "dataset[dataset.duplicated()]\n",
    "dataset.drop_duplicates(inplace=True) # duplicate row removed"
   ]
  },
  {
   "cell_type": "code",
   "execution_count": 6,
   "metadata": {},
   "outputs": [],
   "source": [
    "# Removed PID since it just and identifier of each row\n",
    "dataset.drop('PID',axis=1, inplace=True)"
   ]
  },
  {
   "cell_type": "markdown",
   "metadata": {},
   "source": [
    "<hr style=\"height:1px;border:none;color:#333;background-color:#333;\" />"
   ]
  },
  {
   "cell_type": "code",
   "execution_count": 41,
   "metadata": {},
   "outputs": [
    {
     "data": {
      "text/html": [
       "<div>\n",
       "<style scoped>\n",
       "    .dataframe tbody tr th:only-of-type {\n",
       "        vertical-align: middle;\n",
       "    }\n",
       "\n",
       "    .dataframe tbody tr th {\n",
       "        vertical-align: top;\n",
       "    }\n",
       "\n",
       "    .dataframe thead th {\n",
       "        text-align: right;\n",
       "    }\n",
       "</style>\n",
       "<table border=\"1\" class=\"dataframe\">\n",
       "  <thead>\n",
       "    <tr style=\"text-align: right;\">\n",
       "      <th></th>\n",
       "      <th>0</th>\n",
       "    </tr>\n",
       "  </thead>\n",
       "  <tbody>\n",
       "  </tbody>\n",
       "</table>\n",
       "</div>"
      ],
      "text/plain": [
       "Empty DataFrame\n",
       "Columns: [0]\n",
       "Index: []"
      ]
     },
     "execution_count": 41,
     "metadata": {},
     "output_type": "execute_result"
    }
   ],
   "source": [
    "# List of columns with NaN\n",
    "columns_null = pd.DataFrame(dataset.isnull().sum()) # Columns with NaN\n",
    "columns_null[columns_null[0]>0].sort_values(0, ascending=False)"
   ]
  },
  {
   "cell_type": "markdown",
   "metadata": {},
   "source": [
    "<hr style=\"height:1px;border:none;color:#333;background-color:#333;\" />"
   ]
  },
  {
   "cell_type": "code",
   "execution_count": 8,
   "metadata": {},
   "outputs": [],
   "source": [
    "# Imputed data into LotFrontage\n",
    "imputer = KNNImputer(n_neighbors=round(math.sqrt(len(dataset)))) # k -> square root of the number of observations\n",
    "imputed = imputer.fit_transform(dataset.select_dtypes(include='number')) # calculate values with limited columns\n",
    "dataset_imputed = pd.DataFrame(imputed, columns=dataset.select_dtypes(include='number').columns) # impute dataset"
   ]
  },
  {
   "cell_type": "code",
   "execution_count": 9,
   "metadata": {},
   "outputs": [],
   "source": [
    "dataset_imputed['LotFrontage'] = round(dataset_imputed['LotFrontage']) # round values to match existing values"
   ]
  },
  {
   "cell_type": "code",
   "execution_count": 10,
   "metadata": {},
   "outputs": [
    {
     "data": {
      "text/plain": [
       "<matplotlib.axes._subplots.AxesSubplot at 0x7fab27c0ac70>"
      ]
     },
     "execution_count": 10,
     "metadata": {},
     "output_type": "execute_result"
    },
    {
     "data": {
      "image/png": "[encoded data removed]",
      "text/plain": [
       "<Figure size 432x288 with 1 Axes>"
      ]
     },
     "metadata": {
      "needs_background": "light"
     },
     "output_type": "display_data"
    }
   ],
   "source": [
    "# make sure the distribution of 'LotFrontage' did not change significantly\n",
    "sns.distplot(dataset['LotFrontage'], hist=False)\n",
    "sns.distplot(dataset_imputed['LotFrontage'], hist=False)"
   ]
  },
  {
   "cell_type": "code",
   "execution_count": 12,
   "metadata": {},
   "outputs": [],
   "source": [
    "# Add imputed values to orignal dataset\n",
    "dataset['LotFrontage'] = dataset_imputed['LotFrontage']"
   ]
  },
  {
   "cell_type": "markdown",
   "metadata": {},
   "source": [
    "<hr style=\"height:1px;border:none;color:#333;background-color:#333;\" />"
   ]
  },
  {
   "cell_type": "code",
   "execution_count": 14,
   "metadata": {},
   "outputs": [],
   "source": [
    "# Looking for consistency among the Bsm columns.\n",
    "# After researching all the Bsm columns, concluded it was best\n",
    "# to replace NaN values with zeros in the following columns\n",
    "dataset['TotalBsmtSF'].fillna(0, inplace=True)\n",
    "dataset['BsmtHalfBath'].fillna(0, inplace=True)\n",
    "dataset['BsmtFullBath'].fillna(0, inplace=True)\n",
    "dataset['BsmtFinSF1'].fillna(0, inplace=True)\n",
    "dataset['BsmtFinSF2'].fillna(0, inplace=True)\n",
    "dataset['BsmtUnfSF'].fillna(0, inplace=True)"
   ]
  },
  {
   "cell_type": "markdown",
   "metadata": {},
   "source": [
    "<hr style=\"height:1px;border:none;color:#333;background-color:#333;\" />"
   ]
  },
  {
   "cell_type": "code",
   "execution_count": 21,
   "metadata": {},
   "outputs": [],
   "source": [
    "# Create new index...having trouble locating a particular value in the dataframe\n",
    "dataset.reset_index(inplace=True)\n",
    "dataset.drop('index',axis=1, inplace=True)"
   ]
  },
  {
   "cell_type": "markdown",
   "metadata": {},
   "source": [
    "<hr style=\"height:1px;border:none;color:#333;background-color:#333;\" />"
   ]
  },
  {
   "cell_type": "code",
   "execution_count": 13,
   "metadata": {},
   "outputs": [
    {
     "data": {
      "text/html": [
       "<div>\n",
       "<style scoped>\n",
       "    .dataframe tbody tr th:only-of-type {\n",
       "        vertical-align: middle;\n",
       "    }\n",
       "\n",
       "    .dataframe tbody tr th {\n",
       "        vertical-align: top;\n",
       "    }\n",
       "\n",
       "    .dataframe thead th {\n",
       "        text-align: right;\n",
       "    }\n",
       "</style>\n",
       "<table border=\"1\" class=\"dataframe\">\n",
       "  <thead>\n",
       "    <tr style=\"text-align: right;\">\n",
       "      <th></th>\n",
       "      <th>GarageType</th>\n",
       "      <th>GarageYrBlt</th>\n",
       "      <th>GarageFinish</th>\n",
       "      <th>GarageCars</th>\n",
       "      <th>GarageArea</th>\n",
       "      <th>GarageQual</th>\n",
       "      <th>GarageCond</th>\n",
       "    </tr>\n",
       "  </thead>\n",
       "  <tbody>\n",
       "    <tr>\n",
       "      <th>433</th>\n",
       "      <td>Detchd</td>\n",
       "      <td>NaN</td>\n",
       "      <td>NaN</td>\n",
       "      <td>NaN</td>\n",
       "      <td>NaN</td>\n",
       "      <td>NaN</td>\n",
       "      <td>NaN</td>\n",
       "    </tr>\n",
       "  </tbody>\n",
       "</table>\n",
       "</div>"
      ],
      "text/plain": [
       "    GarageType  GarageYrBlt GarageFinish  GarageCars  GarageArea GarageQual  \\\n",
       "433     Detchd          NaN          NaN         NaN         NaN        NaN   \n",
       "\n",
       "    GarageCond  \n",
       "433        NaN  "
      ]
     },
     "execution_count": 13,
     "metadata": {},
     "output_type": "execute_result"
    }
   ],
   "source": [
    "# GarageArea and GarageCars missing values (1 entry). \n",
    "dataset[dataset['GarageArea'].isna()].filter(like=\"Ga\")"
   ]
  },
  {
   "cell_type": "code",
   "execution_count": 23,
   "metadata": {},
   "outputs": [],
   "source": [
    "# filling na with zero\n",
    "dataset['GarageArea'].fillna(0, inplace=True)\n",
    "dataset['GarageCars'].fillna(0, inplace=True)"
   ]
  },
  {
   "cell_type": "markdown",
   "metadata": {},
   "source": [
    "<hr style=\"height:1px;border:none;color:#333;background-color:#333;\" />"
   ]
  },
  {
   "cell_type": "code",
   "execution_count": 25,
   "metadata": {},
   "outputs": [],
   "source": [
    "# Electrical -> Replacing missing na with SBrkr (every other house built on \n",
    "# same year has Standard Circuit Breakers & Romex (SBrkr))\n",
    "dataset['Electrical'].fillna(\"SBrkr\", inplace=True)"
   ]
  },
  {
   "cell_type": "markdown",
   "metadata": {},
   "source": [
    "<hr style=\"height:1px;border:none;color:#333;background-color:#333;\" />"
   ]
  },
  {
   "cell_type": "code",
   "execution_count": 27,
   "metadata": {},
   "outputs": [],
   "source": [
    "# replacing NAs in MasVnrType with None and MasVnrArea with zero\n",
    "dataset['MasVnrArea'].fillna(0, inplace=True)\n",
    "dataset['MasVnrType'].fillna(\"None\", inplace=True)"
   ]
  },
  {
   "cell_type": "markdown",
   "metadata": {},
   "source": [
    "<hr style=\"height:1px;border:none;color:#333;background-color:#333;\" />"
   ]
  },
  {
   "cell_type": "code",
   "execution_count": 29,
   "metadata": {},
   "outputs": [],
   "source": [
    "# BsmtExposure is set to not basement by mistake.It should be set to No Exposure (\"No\")\n",
    "dataset[(dataset['BsmtExposure'].isna()) & (dataset['BsmtQual'].notnull())].filter(like=\"Bsm\")\n",
    "# We will impute the values manually to No Exposure(\"No\")\n",
    "dataset.loc[[813,1201],'BsmtExposure']=\"No\""
   ]
  },
  {
   "cell_type": "code",
   "execution_count": 31,
   "metadata": {},
   "outputs": [
    {
     "data": {
      "text/html": [
       "<div>\n",
       "<style scoped>\n",
       "    .dataframe tbody tr th:only-of-type {\n",
       "        vertical-align: middle;\n",
       "    }\n",
       "\n",
       "    .dataframe tbody tr th {\n",
       "        vertical-align: top;\n",
       "    }\n",
       "\n",
       "    .dataframe thead th {\n",
       "        text-align: right;\n",
       "    }\n",
       "</style>\n",
       "<table border=\"1\" class=\"dataframe\">\n",
       "  <thead>\n",
       "    <tr style=\"text-align: right;\">\n",
       "      <th></th>\n",
       "      <th>BsmtQual</th>\n",
       "      <th>BsmtCond</th>\n",
       "      <th>BsmtExposure</th>\n",
       "      <th>BsmtFinType1</th>\n",
       "      <th>BsmtFinSF1</th>\n",
       "      <th>BsmtFinType2</th>\n",
       "      <th>BsmtFinSF2</th>\n",
       "      <th>BsmtUnfSF</th>\n",
       "      <th>TotalBsmtSF</th>\n",
       "      <th>BsmtFullBath</th>\n",
       "      <th>BsmtHalfBath</th>\n",
       "    </tr>\n",
       "  </thead>\n",
       "  <tbody>\n",
       "    <tr>\n",
       "      <th>2434</th>\n",
       "      <td>Gd</td>\n",
       "      <td>TA</td>\n",
       "      <td>No</td>\n",
       "      <td>GLQ</td>\n",
       "      <td>1124.0</td>\n",
       "      <td>NaN</td>\n",
       "      <td>479.0</td>\n",
       "      <td>1603.0</td>\n",
       "      <td>3206.0</td>\n",
       "      <td>1.0</td>\n",
       "      <td>0.0</td>\n",
       "    </tr>\n",
       "  </tbody>\n",
       "</table>\n",
       "</div>"
      ],
      "text/plain": [
       "     BsmtQual BsmtCond BsmtExposure BsmtFinType1  BsmtFinSF1 BsmtFinType2  \\\n",
       "2434       Gd       TA           No          GLQ      1124.0          NaN   \n",
       "\n",
       "      BsmtFinSF2  BsmtUnfSF  TotalBsmtSF  BsmtFullBath  BsmtHalfBath  \n",
       "2434       479.0     1603.0       3206.0           1.0           0.0  "
      ]
     },
     "execution_count": 31,
     "metadata": {},
     "output_type": "execute_result"
    }
   ],
   "source": [
    "# BsmtFinType2 is set to no basement by mistake.\n",
    "dataset[(dataset['BsmtFinType2'].isna()) & (dataset['BsmtQual'].notnull())].filter(like=\"Bsm\")"
   ]
  },
  {
   "cell_type": "code",
   "execution_count": 32,
   "metadata": {},
   "outputs": [],
   "source": [
    "# Replacing NaN with Unf = unfinished (it is only one entry)\n",
    "dataset.loc[2434,'BsmtFinType2']=\"Unf\""
   ]
  },
  {
   "cell_type": "markdown",
   "metadata": {},
   "source": [
    "<hr style=\"height:1px;border:none;color:#333;background-color:#333;\" />"
   ]
  },
  {
   "cell_type": "code",
   "execution_count": 34,
   "metadata": {},
   "outputs": [
    {
     "data": {
      "text/html": [
       "<div>\n",
       "<style scoped>\n",
       "    .dataframe tbody tr th:only-of-type {\n",
       "        vertical-align: middle;\n",
       "    }\n",
       "\n",
       "    .dataframe tbody tr th {\n",
       "        vertical-align: top;\n",
       "    }\n",
       "\n",
       "    .dataframe thead th {\n",
       "        text-align: right;\n",
       "    }\n",
       "</style>\n",
       "<table border=\"1\" class=\"dataframe\">\n",
       "  <thead>\n",
       "    <tr style=\"text-align: right;\">\n",
       "      <th></th>\n",
       "      <th>GarageType</th>\n",
       "      <th>GarageYrBlt</th>\n",
       "      <th>GarageFinish</th>\n",
       "      <th>GarageCars</th>\n",
       "      <th>GarageArea</th>\n",
       "      <th>GarageQual</th>\n",
       "      <th>GarageCond</th>\n",
       "    </tr>\n",
       "  </thead>\n",
       "  <tbody>\n",
       "    <tr>\n",
       "      <th>433</th>\n",
       "      <td>Detchd</td>\n",
       "      <td>NaN</td>\n",
       "      <td>NaN</td>\n",
       "      <td>0.0</td>\n",
       "      <td>0.0</td>\n",
       "      <td>NaN</td>\n",
       "      <td>NaN</td>\n",
       "    </tr>\n",
       "  </tbody>\n",
       "</table>\n",
       "</div>"
      ],
      "text/plain": [
       "    GarageType  GarageYrBlt GarageFinish  GarageCars  GarageArea GarageQual  \\\n",
       "433     Detchd          NaN          NaN         0.0         0.0        NaN   \n",
       "\n",
       "    GarageCond  \n",
       "433        NaN  "
      ]
     },
     "execution_count": 34,
     "metadata": {},
     "output_type": "execute_result"
    }
   ],
   "source": [
    "# GarageType is incorrect, there is no garage.\n",
    "dataset[(dataset['GarageType']=='Detchd') & (dataset['GarageArea']==0)].filter(like=\"Ga\")"
   ]
  },
  {
   "cell_type": "code",
   "execution_count": 35,
   "metadata": {},
   "outputs": [],
   "source": [
    "# since there is no garage, the GarageType for 433 was set to NaN\n",
    "dataset.loc[433,'GarageType']=\"None\""
   ]
  },
  {
   "cell_type": "markdown",
   "metadata": {},
   "source": [
    "<hr style=\"height:1px;border:none;color:#333;background-color:#333;\" />"
   ]
  },
  {
   "cell_type": "code",
   "execution_count": 36,
   "metadata": {},
   "outputs": [
    {
     "data": {
      "text/html": [
       "<div>\n",
       "<style scoped>\n",
       "    .dataframe tbody tr th:only-of-type {\n",
       "        vertical-align: middle;\n",
       "    }\n",
       "\n",
       "    .dataframe tbody tr th {\n",
       "        vertical-align: top;\n",
       "    }\n",
       "\n",
       "    .dataframe thead th {\n",
       "        text-align: right;\n",
       "    }\n",
       "</style>\n",
       "<table border=\"1\" class=\"dataframe\">\n",
       "  <thead>\n",
       "    <tr style=\"text-align: right;\">\n",
       "      <th></th>\n",
       "      <th>GarageType</th>\n",
       "      <th>GarageYrBlt</th>\n",
       "      <th>GarageFinish</th>\n",
       "      <th>GarageCars</th>\n",
       "      <th>GarageArea</th>\n",
       "      <th>GarageQual</th>\n",
       "      <th>GarageCond</th>\n",
       "    </tr>\n",
       "  </thead>\n",
       "  <tbody>\n",
       "    <tr>\n",
       "      <th>433</th>\n",
       "      <td>None</td>\n",
       "      <td>NaN</td>\n",
       "      <td>NaN</td>\n",
       "      <td>0.0</td>\n",
       "      <td>0.0</td>\n",
       "      <td>NaN</td>\n",
       "      <td>NaN</td>\n",
       "    </tr>\n",
       "    <tr>\n",
       "      <th>531</th>\n",
       "      <td>Detchd</td>\n",
       "      <td>NaN</td>\n",
       "      <td>NaN</td>\n",
       "      <td>1.0</td>\n",
       "      <td>360.0</td>\n",
       "      <td>NaN</td>\n",
       "      <td>NaN</td>\n",
       "    </tr>\n",
       "  </tbody>\n",
       "</table>\n",
       "</div>"
      ],
      "text/plain": [
       "    GarageType  GarageYrBlt GarageFinish  GarageCars  GarageArea GarageQual  \\\n",
       "433       None          NaN          NaN         0.0         0.0        NaN   \n",
       "531     Detchd          NaN          NaN         1.0       360.0        NaN   \n",
       "\n",
       "    GarageCond  \n",
       "433        NaN  \n",
       "531        NaN  "
      ]
     },
     "execution_count": 36,
     "metadata": {},
     "output_type": "execute_result"
    }
   ],
   "source": [
    "# GarageYrBlt, GarageFinish, GarageQual, and GarageCond are NaN, but there is a Garage\n",
    "dataset[(dataset['GarageType'].notnull()) & (dataset['GarageFinish'].isna())].filter(like=\"Ga\")"
   ]
  },
  {
   "cell_type": "code",
   "execution_count": 37,
   "metadata": {},
   "outputs": [],
   "source": [
    "# Adding values to one observation with Detached garage\n",
    "dataset.loc[531,'GarageYrBlt'] = 1910        # Year house was built\n",
    "dataset.loc[531,'GarageFinish'] = \"Unf\"\n",
    "dataset.loc[531,'GarageQual'] = \"TA\"\n",
    "dataset.loc[531,'GarageCond'] = \"TA\""
   ]
  },
  {
   "cell_type": "markdown",
   "metadata": {},
   "source": [
    "<hr style=\"height:1px;border:none;color:#333;background-color:#333;\" />"
   ]
  },
  {
   "cell_type": "code",
   "execution_count": 38,
   "metadata": {},
   "outputs": [],
   "source": [
    "# Coverting GarageYrBlt to Int64\n",
    "dataset['GarageYrBlt'] = dataset['GarageYrBlt'].astype(\"Int64\")"
   ]
  },
  {
   "cell_type": "code",
   "execution_count": 40,
   "metadata": {},
   "outputs": [],
   "source": [
    "# converting \"NA\" to zero in the GarageYrBlt column\n",
    "dataset['GarageYrBlt'].fillna(0, inplace=True)\n",
    "# filling all NaNs with \"NA\" (string) (except GarageYrBlt) ---> No garage, No basement, No pool, etc...\n",
    "dataset.fillna(\"None\", inplace=True)"
   ]
  },
  {
   "cell_type": "markdown",
   "metadata": {},
   "source": [
    "<br><br>\n",
    "## Consistency\n",
    "<hr style=\"height:1px;border:none;color:#333;background-color:#333;\" />"
   ]
  },
  {
   "cell_type": "code",
   "execution_count": 42,
   "metadata": {},
   "outputs": [
    {
     "data": {
      "text/html": [
       "<div>\n",
       "<style scoped>\n",
       "    .dataframe tbody tr th:only-of-type {\n",
       "        vertical-align: middle;\n",
       "    }\n",
       "\n",
       "    .dataframe tbody tr th {\n",
       "        vertical-align: top;\n",
       "    }\n",
       "\n",
       "    .dataframe thead th {\n",
       "        text-align: right;\n",
       "    }\n",
       "</style>\n",
       "<table border=\"1\" class=\"dataframe\">\n",
       "  <thead>\n",
       "    <tr style=\"text-align: right;\">\n",
       "      <th></th>\n",
       "      <th>YearBuilt</th>\n",
       "      <th>GarageYrBlt</th>\n",
       "      <th>YearRemodAdd</th>\n",
       "      <th>YrSold</th>\n",
       "    </tr>\n",
       "  </thead>\n",
       "  <tbody>\n",
       "    <tr>\n",
       "      <th>2034</th>\n",
       "      <td>2002</td>\n",
       "      <td>2002</td>\n",
       "      <td>2001</td>\n",
       "      <td>2009</td>\n",
       "    </tr>\n",
       "  </tbody>\n",
       "</table>\n",
       "</div>"
      ],
      "text/plain": [
       "      YearBuilt  GarageYrBlt  YearRemodAdd  YrSold\n",
       "2034       2002         2002          2001    2009"
      ]
     },
     "execution_count": 42,
     "metadata": {},
     "output_type": "execute_result"
    }
   ],
   "source": [
    "# Houses updated (YearRemodAdd) before the house construction date\n",
    "dataset[dataset['YearBuilt']>dataset['YearRemodAdd']][['YearBuilt','GarageYrBlt','YearRemodAdd','YrSold']]"
   ]
  },
  {
   "cell_type": "code",
   "execution_count": 43,
   "metadata": {},
   "outputs": [],
   "source": [
    "# udpate\n",
    "dataset.loc[2034,'YearRemodAdd']=2002"
   ]
  },
  {
   "cell_type": "markdown",
   "metadata": {},
   "source": [
    "<hr style=\"height:1px;border:none;color:#333;background-color:#333;\" />"
   ]
  },
  {
   "cell_type": "code",
   "execution_count": 46,
   "metadata": {},
   "outputs": [
    {
     "data": {
      "text/html": [
       "<div>\n",
       "<style scoped>\n",
       "    .dataframe tbody tr th:only-of-type {\n",
       "        vertical-align: middle;\n",
       "    }\n",
       "\n",
       "    .dataframe tbody tr th {\n",
       "        vertical-align: top;\n",
       "    }\n",
       "\n",
       "    .dataframe thead th {\n",
       "        text-align: right;\n",
       "    }\n",
       "</style>\n",
       "<table border=\"1\" class=\"dataframe\">\n",
       "  <thead>\n",
       "    <tr style=\"text-align: right;\">\n",
       "      <th></th>\n",
       "      <th>YearBuilt</th>\n",
       "      <th>GarageYrBlt</th>\n",
       "      <th>YearRemodAdd</th>\n",
       "      <th>YrSold</th>\n",
       "      <th>GarageArea</th>\n",
       "      <th>GarageType</th>\n",
       "    </tr>\n",
       "  </thead>\n",
       "  <tbody>\n",
       "  </tbody>\n",
       "</table>\n",
       "</div>"
      ],
      "text/plain": [
       "Empty DataFrame\n",
       "Columns: [YearBuilt, GarageYrBlt, YearRemodAdd, YrSold, GarageArea, GarageType]\n",
       "Index: []"
      ]
     },
     "execution_count": 46,
     "metadata": {},
     "output_type": "execute_result"
    }
   ],
   "source": [
    "# Garage built before the house ?\n",
    "dataset[(dataset['YearBuilt']>dataset['GarageYrBlt']) & (dataset['GarageArea']>0)][['YearBuilt','GarageYrBlt','YearRemodAdd','YrSold','GarageArea','GarageType']]"
   ]
  },
  {
   "cell_type": "code",
   "execution_count": 45,
   "metadata": {},
   "outputs": [],
   "source": [
    "# Updated GarageYrBlt with YearBuilt when the GarageYrBlt is before the house YearBuilt\n",
    "new_years = pd.DataFrame(dataset[(dataset['YearBuilt']>dataset['GarageYrBlt']) & (dataset['GarageArea']>0)]['YearBuilt'])\n",
    "new_years.columns = ['GarageYrBlt']\n",
    "dataset.update(new_years)"
   ]
  },
  {
   "cell_type": "markdown",
   "metadata": {},
   "source": [
    "<hr style=\"height:1px;border:none;color:#333;background-color:#333;\" />"
   ]
  },
  {
   "cell_type": "code",
   "execution_count": 30,
   "metadata": {},
   "outputs": [],
   "source": [
    "# Write cleaned dataset to csv file\n",
    "dataset.to_csv('../ariel/Price_Data_cleaned.csv', index=False)"
   ]
  },
  {
   "cell_type": "markdown",
   "metadata": {},
   "source": [
    "<hr style=\"height:1px;border:none;color:#333;background-color:#333;\" />"
   ]
  },
  {
   "cell_type": "code",
   "execution_count": 32,
   "metadata": {},
   "outputs": [],
   "source": [
    "# Team decided the following columns are not needed\n",
    "# columns_to_remove = ['MSSubClass','Street','LotShape','LandContour','LandSlope','GarageYrBlt','GarageArea','MoSold','YrSold','SaleType','SaleCondition']\n",
    "columns_to_remove = ['MSSubClass','Street','LotShape','LandContour','LandSlope','GarageYrBlt','GarageArea','MoSold','YrSold','SaleType','SaleCondition']\n",
    "dataset.drop(columns=columns_to_remove, inplace=True)"
   ]
  },
  {
   "cell_type": "code",
   "execution_count": 33,
   "metadata": {},
   "outputs": [],
   "source": [
    "dataset.to_csv('../ariel/Price_Data_cleaned_reduced.csv', index=False)"
   ]
  }
 ],
 "metadata": {
  "kernelspec": {
   "display_name": "Python 3",
   "language": "python",
   "name": "python3"
  },
  "language_info": {
   "codemirror_mode": {
    "name": "ipython",
    "version": 3
   },
   "file_extension": ".py",
   "mimetype": "text/x-python",
   "name": "python",
   "nbconvert_exporter": "python",
   "pygments_lexer": "ipython3",
   "version": "3.8.3"
  },
  "latex_envs": {
   "LaTeX_envs_menu_present": true,
   "autoclose": false,
   "autocomplete": true,
   "bibliofile": "biblio.bib",
   "cite_by": "apalike",
   "current_citInitial": 1,
   "eqLabelWithNumbers": true,
   "eqNumInitial": 1,
   "hotkeys": {
    "equation": "Ctrl-E",
    "itemize": "Ctrl-I"
   },
   "labels_anchors": false,
   "latex_user_defs": false,
   "report_style_numbering": false,
   "user_envs_cfg": false
  },
  "toc": {
   "base_numbering": 1,
   "nav_menu": {},
   "number_sections": true,
   "sideBar": true,
   "skip_h1_title": false,
   "title_cell": "Table of Contents",
   "title_sidebar": "Contents",
   "toc_cell": false,
   "toc_position": {},
   "toc_section_display": true,
   "toc_window_display": false
  }
 },
 "nbformat": 4,
 "nbformat_minor": 4
}
